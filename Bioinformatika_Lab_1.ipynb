{
  "nbformat": 4,
  "nbformat_minor": 0,
  "metadata": {
    "colab": {
      "provenance": [],
      "collapsed_sections": [],
      "authorship_tag": "ABX9TyPIoQIZlco3hA64j+iVII4G"
    },
    "kernelspec": {
      "name": "python3",
      "display_name": "Python 3"
    },
    "language_info": {
      "name": "python"
    }
  },
  "cells": [
    {
      "cell_type": "code",
      "execution_count": 1,
      "metadata": {
        "colab": {
          "base_uri": "https://localhost:8080/"
        },
        "id": "VWhi7Y-e0avf",
        "outputId": "e4550bc5-36c7-4767-e9af-fd363214b13c"
      },
      "outputs": [
        {
          "output_type": "stream",
          "name": "stdout",
          "text": [
            "Looking in indexes: https://pypi.org/simple, https://us-python.pkg.dev/colab-wheels/public/simple/\n",
            "Collecting pysam\n",
            "  Downloading pysam-0.19.1-cp37-cp37m-manylinux_2_24_x86_64.whl (15.1 MB)\n",
            "\u001b[K     |████████████████████████████████| 15.1 MB 8.5 MB/s \n",
            "\u001b[?25hInstalling collected packages: pysam\n",
            "Successfully installed pysam-0.19.1\n"
          ]
        }
      ],
      "source": [
        "!pip install pysam"
      ]
    },
    {
      "cell_type": "code",
      "source": [
        "from pysam import FastaFile\n",
        "from itertools import product\n",
        "\n",
        "sequences_dict = {}\n",
        "\n",
        "for i in range(1, 5):\n",
        "  name = f'bacterial{i}'\n",
        "  sequences_object = FastaFile(f'data/{name}.fasta')\n",
        "  sequences_dict[name] = sequences_object.fetch(sequences_object.references[0])\n",
        "\n",
        "for i in range(1, 5):\n",
        "  name = f'mamalian{i}'\n",
        "  sequences_object = FastaFile(f'data/{name}.fasta')\n",
        "  sequences_dict[name] = sequences_object.fetch(sequences_object.references[0])\n",
        "\n",
        "print(sequences_dict)"
      ],
      "metadata": {
        "id": "xmn5jslA0_yt"
      },
      "execution_count": null,
      "outputs": []
    },
    {
      "cell_type": "code",
      "source": [
        "start_codons = [\"ATG\"]\n",
        "stop_codons = [\"TAG\", \"TGA\", \"TAA\"]\n",
        "reverse = {\"A\": \"T\", \"C\": \"G\", \"T\": \"A\", \"G\": \"C\"}\n",
        "\n",
        "l = [\"A\", \"T\", \"G\", \"C\"]\n",
        "\n",
        "all_codones = [''.join(i) for i in product(l, repeat = 3)]\n",
        "all_dicodones = [''.join(i) for i in product(all_codones, repeat = 2)]"
      ],
      "metadata": {
        "id": "EkMIx9II1X0r"
      },
      "execution_count": 4,
      "outputs": []
    },
    {
      "cell_type": "code",
      "source": [
        "def get_all_frames(seq):\n",
        "  temp_frame_list = []  \n",
        "  frames = []\n",
        "  for j in range (3):\n",
        "    temp_frame_list.append([seq[i:i + 3] for i in range(j, len(seq), 3)])\n",
        "\n",
        "  reverseCompl = []\n",
        "  for i in range(len(seq)):\n",
        "    reverseCompl.append(reverse[seq[-i - 1]])\n",
        "  \n",
        "  seq = ''.join(reverseCompl)\n",
        "  for j in range (3):\n",
        "    temp_frame_list.append([seq[i:i + 3] for i in range(j, len(seq), 3)])\n",
        "    \n",
        "  return temp_frame_list"
      ],
      "metadata": {
        "id": "FxUxmj587jn6"
      },
      "execution_count": 5,
      "outputs": []
    },
    {
      "cell_type": "code",
      "source": [
        "def get_orfs(frames):\n",
        "  allOrfs = []\n",
        "  o = []\n",
        "  for i in range(0, len(frames)):\n",
        "    start = 0\n",
        "    while start < len(frames[i]):\n",
        "      if frames[i][start] in start_codons:\n",
        "        for stop in range(start + 1, len(frames[i])):\n",
        "          if frames[i][stop] in stop_codons:\n",
        "            allOrfs.append(frames[i][start:stop])\n",
        "            start=stop+1\n",
        "            break\n",
        "      start += 1\n",
        "  return allOrfs"
      ],
      "metadata": {
        "id": "6CUYxu0E9xDx"
      },
      "execution_count": 6,
      "outputs": []
    },
    {
      "cell_type": "code",
      "source": [
        "#tik ilgesni nei 100 ir sujungiamos sekos i viena\n",
        "def get_longer_than_100_in_full_sequence_and_count(allOrfs):\n",
        "  temp_list = []\n",
        "  count_of_elements = 0\n",
        "  one_sequence_for_freq = [] # pridedams # simbolis gale sekos, lengviau ieskant dikodonu daznio\n",
        "  for orf in allOrfs:\n",
        "    if (len(orf) * 3 >= 100):\n",
        "      temp_list.append(orf)\n",
        "      count_of_elements += len(orf)\n",
        "      one_sequence_for_freq.extend(orf)\n",
        "      one_sequence_for_freq.append('#')\n",
        "  return (one_sequence_for_freq, count_of_elements)"
      ],
      "metadata": {
        "id": "VPO1qI1ieYPB"
      },
      "execution_count": 7,
      "outputs": []
    },
    {
      "cell_type": "code",
      "source": [
        "#daznio ieskojimas\n",
        "def calculate_frequency (list_of_combinations, sequence, count, find_codones = True):\n",
        "  freq_dict = {k : 0 for k in list_of_combinations}\n",
        "\n",
        "  for key in sequence: # jei ieskome kodonu daznio\n",
        "    if (key in freq_dict):\n",
        "      freq_dict[key] += 1\n",
        "  else: # jei ieskome dikodonu daznio\n",
        "    for i, key in enumerate(sequence):\n",
        "      if (i + 1 >= len(sequence)): break\n",
        "\n",
        "      next_key = sequence[i + 1]\n",
        "      temp = key + next_key\n",
        "      if (temp in freq_dict):\n",
        "        freq_dict[temp] += 1\n",
        "\n",
        "  for key in freq_dict.keys():\n",
        "    freq_dict[key] /= count\n",
        "  return freq_dict"
      ],
      "metadata": {
        "id": "r_AuNVP0N5DE"
      },
      "execution_count": 8,
      "outputs": []
    },
    {
      "cell_type": "code",
      "source": [
        "def get_frequencies_in_sequence(seq):\n",
        "  frames = get_all_frames(seq)\n",
        "  orfs = get_orfs(frames)\n",
        "  sequence_for_freq, count = get_longer_than_100_in_full_sequence_and_count(orfs)\n",
        "\n",
        "  codone_freq = calculate_frequency(all_codones, sequence_for_freq, count, True)\n",
        "  dicodone_freq = calculate_frequency(all_dicodones, sequence_for_freq, count, False)\n",
        "  return (codone_freq, dicodone_freq)"
      ],
      "metadata": {
        "id": "LEPB9iKTgnsN"
      },
      "execution_count": 9,
      "outputs": []
    },
    {
      "cell_type": "code",
      "source": [
        "def get_distance(seq1, seq2):\n",
        "  distances = [abs(seq1[key] - seq2[key]) for key in seq1.keys()]\n",
        "  return (sum(distances) / len(seq1)) * 100"
      ],
      "metadata": {
        "id": "GEJgh1G4mwcu"
      },
      "execution_count": 10,
      "outputs": []
    },
    {
      "cell_type": "code",
      "source": [
        "#calculate all frequancies\n",
        "freq_dict = {}\n",
        "for key in sequences_dict.keys():\n",
        "  freq_dict[key] = get_frequencies_in_sequence(sequences_dict[key])"
      ],
      "metadata": {
        "id": "4q5y-Y4xkFJn"
      },
      "execution_count": 12,
      "outputs": []
    },
    {
      "cell_type": "code",
      "source": [
        "codones_matrix = [[0 for y in range(9)] for x in range(8)]\n",
        "dicodones_matrix = [[0 for y in range(9)] for x in range(8)]\n",
        "i = 0\n",
        "for key in freq_dict.keys():\n",
        "  codones_matrix[i][0] = key\n",
        "  dicodones_matrix[i][0] = key\n",
        "  j = 1\n",
        "  for key_other in freq_dict.keys():\n",
        "    codones_matrix[i][j] = get_distance(freq_dict[key][0], freq_dict[key_other][0])\n",
        "    dicodones_matrix[i][j] = get_distance(freq_dict[key][1], freq_dict[key_other][1])\n",
        "    j += 1\n",
        "  i += 1"
      ],
      "metadata": {
        "id": "deUIhRWvnxHq"
      },
      "execution_count": 18,
      "outputs": []
    },
    {
      "cell_type": "code",
      "source": [
        "def print_matrix(matrix):\n",
        "  for i in range(8):\n",
        "    s = \"\"\n",
        "    for j in range(9):\n",
        "      s += f'{matrix[i][j]} '\n",
        "    print(s)"
      ],
      "metadata": {
        "id": "YYatgT-_2IKS"
      },
      "execution_count": 19,
      "outputs": []
    },
    {
      "cell_type": "code",
      "source": [
        "print_matrix(codones_matrix)"
      ],
      "metadata": {
        "colab": {
          "base_uri": "https://localhost:8080/"
        },
        "id": "xsjEhgHRrJKu",
        "outputId": "cfe2870b-195b-4211-c163-8b8b74814aa3"
      },
      "execution_count": 21,
      "outputs": [
        {
          "output_type": "stream",
          "name": "stdout",
          "text": [
            "bacterial1 0.0 0.6989632554780053 0.3547384860890319 0.6126965680705813 0.4359234552562748 0.8163990274537511 0.5674011865940007 1.1311008788747685 \n",
            "bacterial2 0.6989632554780053 0.0 0.5424330178370035 1.1023085995450186 0.6173478518905082 0.4307264458883532 0.7325053870089067 0.6237052853304594 \n",
            "bacterial3 0.3547384860890319 0.5424330178370035 0.0 0.7337364339627372 0.33324230154284223 0.6556224454899742 0.5228894870452402 0.9776627284727365 \n",
            "bacterial4 0.6126965680705813 1.1023085995450186 0.7337364339627372 0.0 0.7883026821335191 1.2126682861526006 0.7572652568035231 1.4648329172619248 \n",
            "mamalian1 0.4359234552562748 0.6173478518905082 0.33324230154284223 0.7883026821335191 0.0 0.6740315551655435 0.5815370189260377 1.0295936242112151 \n",
            "mamalian2 0.8163990274537511 0.4307264458883532 0.6556224454899742 1.2126682861526006 0.6740315551655435 0.0 0.8484656338032328 0.396571905060033 \n",
            "mamalian3 0.5674011865940007 0.7325053870089067 0.5228894870452402 0.7572652568035231 0.5815370189260377 0.8484656338032328 0.0 1.117805523916813 \n",
            "mamalian4 1.1311008788747685 0.6237052853304594 0.9776627284727365 1.4648329172619248 1.0295936242112151 0.396571905060033 1.117805523916813 0.0 \n"
          ]
        }
      ]
    },
    {
      "cell_type": "code",
      "source": [
        "print_matrix(dicodones_matrix)"
      ],
      "metadata": {
        "colab": {
          "base_uri": "https://localhost:8080/"
        },
        "id": "VKOF3xEf-bLz",
        "outputId": "be10ae1f-765b-47d0-e8d7-f7b907bde523"
      },
      "execution_count": 22,
      "outputs": [
        {
          "output_type": "stream",
          "name": "stdout",
          "text": [
            "bacterial1 0.0 0.02132067520447761 0.016124727783787787 0.021475600225783764 0.017914270332295285 0.023078682461597708 0.01943710807142197 0.028313825956029604 \n",
            "bacterial2 0.02132067520447761 0.0 0.01872300299512442 0.027611338230720952 0.01981375979649642 0.016193482952650627 0.02107270377852177 0.019232642903248977 \n",
            "bacterial3 0.016124727783787787 0.01872300299512442 0.0 0.022413145916024863 0.016030711974943015 0.019624222150055517 0.0192118307905325 0.024771008820516534 \n",
            "bacterial4 0.021475600225783764 0.027611338230720952 0.022413145916024863 0.0 0.02258079957666274 0.028510757913720722 0.02234927018905029 0.03265524238788268 \n",
            "mamalian1 0.017914270332295285 0.01981375979649642 0.016030711974943015 0.02258079957666274 0.0 0.01953989781245677 0.019496219343472693 0.02532687735564707 \n",
            "mamalian2 0.023078682461597708 0.016193482952650627 0.019624222150055517 0.028510757913720722 0.01953989781245677 0.0 0.022643458381794785 0.015823370692033812 \n",
            "mamalian3 0.01943710807142197 0.02107270377852177 0.0192118307905325 0.02234927018905029 0.019496219343472693 0.022643458381794785 0.0 0.027033866710232744 \n",
            "mamalian4 0.028313825956029604 0.019232642903248977 0.024771008820516534 0.03265524238788268 0.02532687735564707 0.015823370692033812 0.027033866710232744 0.0 \n"
          ]
        }
      ]
    }
  ]
}